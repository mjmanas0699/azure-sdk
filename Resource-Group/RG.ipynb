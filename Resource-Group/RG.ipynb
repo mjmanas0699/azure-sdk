{
 "cells": [
  {
   "cell_type": "code",
   "execution_count": 1,
   "id": "3b927289",
   "metadata": {},
   "outputs": [],
   "source": [
    "from azure.mgmt.resource import ResourceManagementClient\n",
    "from azure.identity import AzureCliCredential"
   ]
  },
  {
   "cell_type": "code",
   "execution_count": 2,
   "id": "dfd612d7",
   "metadata": {},
   "outputs": [],
   "source": [
    "creds=AzureCliCredential()"
   ]
  },
  {
   "cell_type": "code",
   "execution_count": 3,
   "id": "83577b62",
   "metadata": {},
   "outputs": [],
   "source": [
    "subscription_id=\"8c11b217-12d8-4862-a0e5-4f4065f840b9\"\n",
    "resources_client=ResourceManagementClient(creds,subscription_id)"
   ]
  },
  {
   "cell_type": "code",
   "execution_count": 4,
   "id": "296a4763",
   "metadata": {},
   "outputs": [],
   "source": [
    "rg=resources_client.resource_groups.create_or_update(\"cicd\",\n",
    "                                                     { \"location\": \"centralindia\",\n",
    "                                                       \"tags\": { \"environment\": \"test\"\n",
    "                                                               \n",
    "                                                               } \n",
    "                                                     }\n",
    "                                                    )  # create rg with tags "
   ]
  },
  {
   "cell_type": "code",
   "execution_count": 33,
   "id": "83d83315",
   "metadata": {},
   "outputs": [
    {
     "name": "stdout",
     "output_type": "stream",
     "text": [
      "{'additional_properties': {}, 'id': '/subscriptions/8c11b217-12d8-4862-a0e5-4f4065f840b9/resourceGroups/cicd', 'name': 'cicd', 'type': 'Microsoft.Resources/resourceGroups', 'properties': <azure.mgmt.resource.resources.v2021_04_01.models._models_py3.ResourceGroupProperties object at 0x7f9149913350>, 'location': 'centralindia', 'managed_by': None, 'tags': {'environment': 'test'}}\n"
     ]
    }
   ],
   "source": [
    "print(rg)"
   ]
  },
  {
   "cell_type": "code",
   "execution_count": 109,
   "id": "9778d88e",
   "metadata": {},
   "outputs": [],
   "source": [
    "rg=resources_client.resource_groups.begin_delete(\"cicd\") # delete the resource group"
   ]
  },
  {
   "cell_type": "code",
   "execution_count": 75,
   "id": "e009e027",
   "metadata": {},
   "outputs": [
    {
     "name": "stdout",
     "output_type": "stream",
     "text": [
      "cloud-shell-storage-centralindia\n",
      "minikube-k8s\n",
      "onpremise\n",
      "godrejcp-platform-rg\n",
      "MC_godrejcp-platform-rg_godrejcp-katonic-platform_centralindia\n",
      "katonic-studio-dev\n",
      "elara.ai\n",
      "birla-windows_group\n",
      "DefaultResourceGroup-CIN\n",
      "mseq-platform-rg\n",
      "MC_mseq-platform-rg_mseq-platform-cluster_centralindia\n",
      "ansible-platform-testing\n",
      "MC_ansible-platform-testing_ansible-cluster-testing_centralindia\n",
      "cicd\n",
      "AzureBackupRG_eastus_1\n",
      "keycloak-rg\n",
      "DefaultResourceGroup-EUS\n",
      "kafe_storage\n",
      "test-img-rg\n",
      "DefaultResourceGroup-SEA\n",
      "NetworkWatcherRG\n",
      "katonic-feature-engineering-rg\n",
      "DEV-katonic-platform-vnet-RG\n",
      "platform-container-registry-test\n",
      "katonicPlatformResources\n",
      "keycloak-server\n",
      "test-birla-rg\n",
      "birla-platform-rg\n",
      "platformScriptTest_group\n",
      "jupyter-notebook-api-testing-platform-rg\n",
      "jupyter-api-testing-platform-rg\n",
      "jupyapi-testing-platform-rg\n",
      "airbyte-platform-rg\n",
      "kustomize-testing\n",
      "platform-installation\n",
      "kustmization-testing\n",
      "platform-for-data-scientists-rg\n",
      "MC_platform-for-data-scientists-rg_platform-for-data-scientists_southeastasia\n",
      "kustomize-cluster-rg\n",
      "demo-cluster-rg\n",
      "MC_demo-cluster-rg_demo-cluster_southeastasia\n",
      "demo-platform-rg\n",
      "MC_demo-platform-rg_demo-platform-cluster_southeastasia\n",
      "on-premise-testing\n",
      "On-Prem-Testing_group\n",
      "On-Prem-Testing-1_group\n",
      "nifi-with-kc-testing\n",
      "R-docker-images_group\n",
      "superset-dev\n",
      "AzureBackupRG_southeastasia_1\n",
      "inspira-platform-rg\n",
      "MC_inspira-platform-rg_inspira-platform-cluster_southeastasia\n"
     ]
    },
    {
     "data": {
      "text/plain": [
       "52"
      ]
     },
     "execution_count": 75,
     "metadata": {},
     "output_type": "execute_result"
    }
   ],
   "source": [
    "rg=resources_client.resource_groups.list()\n",
    "count=0\n",
    "for i in rg:\n",
    "    print(i.name)\n",
    "    count=count+1\n",
    "count                                     #list all resource Groups by name"
   ]
  },
  {
   "cell_type": "code",
   "execution_count": 126,
   "id": "d1c88e31",
   "metadata": {},
   "outputs": [],
   "source": [
    "from azure.mgmt.resource.resources import ResourceManagementClient\n",
    "from azure.identity import AzureCliCredential"
   ]
  },
  {
   "cell_type": "code",
   "execution_count": 129,
   "id": "129f2c07",
   "metadata": {},
   "outputs": [],
   "source": [
    "creds=AzureCliCredential()\n",
    "subscription_id=\"8c11b217-12d8-4862-a0e5-4f4065f840b9\"\n",
    "client=ResourceManagementClient(creds,subscription_id)"
   ]
  },
  {
   "cell_type": "code",
   "execution_count": 131,
   "id": "cfe650d1",
   "metadata": {},
   "outputs": [
    {
     "name": "stdout",
     "output_type": "stream",
     "text": [
      "Microsoft.Compute/sshPublicKeys\n",
      "Microsoft.Network/virtualNetworks\n",
      "Microsoft.Network/publicIPAddresses\n",
      "Microsoft.Network/networkSecurityGroups\n",
      "Microsoft.Network/networkInterfaces\n",
      "Microsoft.Compute/virtualMachines\n",
      "Microsoft.Compute/disks\n"
     ]
    }
   ],
   "source": [
    "for item in client.resources.list_by_resource_group(\"elara.ai\"):\n",
    "    print(item.type)"
   ]
  },
  {
   "cell_type": "code",
   "execution_count": null,
   "id": "9cec84c8",
   "metadata": {},
   "outputs": [],
   "source": []
  }
 ],
 "metadata": {
  "kernelspec": {
   "display_name": "Python 3 (ipykernel)",
   "language": "python",
   "name": "python3"
  },
  "language_info": {
   "codemirror_mode": {
    "name": "ipython",
    "version": 3
   },
   "file_extension": ".py",
   "mimetype": "text/x-python",
   "name": "python",
   "nbconvert_exporter": "python",
   "pygments_lexer": "ipython3",
   "version": "3.7.9"
  }
 },
 "nbformat": 4,
 "nbformat_minor": 5
}
