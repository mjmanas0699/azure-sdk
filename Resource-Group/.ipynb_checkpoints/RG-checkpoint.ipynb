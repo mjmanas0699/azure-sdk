{
 "cells": [
  {
   "cell_type": "code",
   "execution_count": 104,
   "id": "3b927289",
   "metadata": {},
   "outputs": [],
   "source": [
    "from azure.mgmt.resource import ResourceManagementClient\n",
    "from azure.identity import AzureCliCredential"
   ]
  },
  {
   "cell_type": "code",
   "execution_count": 78,
   "id": "dfd612d7",
   "metadata": {},
   "outputs": [],
   "source": [
    "creds=AzureCliCredential()"
   ]
  },
  {
   "cell_type": "code",
   "execution_count": 79,
   "id": "83577b62",
   "metadata": {},
   "outputs": [],
   "source": [
    "subscription_id=\"8c11b217-12d8-4862-a0e5-4f4065f840b9\"\n",
    "resources_client=ResourceManagementClient(creds,subscription_id)"
   ]
  },
  {
   "cell_type": "code",
   "execution_count": 80,
   "id": "296a4763",
   "metadata": {},
   "outputs": [],
   "source": [
    "rg=resources_client.resource_groups.create_or_update(\"cicd\",\n",
    "                                                     { \"location\": \"centralindia\",\n",
    "                                                       \"tags\": { \"environment\": \"test\"\n",
    "                                                               \n",
    "                                                               } \n",
    "                                                     }\n",
    "                                                    )  # create rg with tags "
   ]
  },
  {
   "cell_type": "code",
   "execution_count": 33,
   "id": "83d83315",
   "metadata": {},
   "outputs": [
    {
     "name": "stdout",
     "output_type": "stream",
     "text": [
      "{'additional_properties': {}, 'id': '/subscriptions/8c11b217-12d8-4862-a0e5-4f4065f840b9/resourceGroups/cicd', 'name': 'cicd', 'type': 'Microsoft.Resources/resourceGroups', 'properties': <azure.mgmt.resource.resources.v2021_04_01.models._models_py3.ResourceGroupProperties object at 0x7f9149913350>, 'location': 'centralindia', 'managed_by': None, 'tags': {'environment': 'test'}}\n"
     ]
    }
   ],
   "source": [
    "print(rg)"
   ]
  },
  {
   "cell_type": "code",
   "execution_count": 109,
   "id": "9778d88e",
   "metadata": {},
   "outputs": [],
   "source": [
    "rg=resources_client.resource_groups.begin_delete(\"cicd\") # delete the resource group"
   ]
  },
  {
   "cell_type": "code",
   "execution_count": 75,
   "id": "5079ea23",
   "metadata": {},
   "outputs": [
    {
     "name": "stdout",
     "output_type": "stream",
     "text": [
      "cloud-shell-storage-centralindia\n",
      "minikube-k8s\n",
      "onpremise\n",
      "godrejcp-platform-rg\n",
      "MC_godrejcp-platform-rg_godrejcp-katonic-platform_centralindia\n",
      "katonic-studio-dev\n",
      "elara.ai\n",
      "birla-windows_group\n",
      "DefaultResourceGroup-CIN\n",
      "mseq-platform-rg\n",
      "MC_mseq-platform-rg_mseq-platform-cluster_centralindia\n",
      "ansible-platform-testing\n",
      "MC_ansible-platform-testing_ansible-cluster-testing_centralindia\n",
      "cicd\n",
      "AzureBackupRG_eastus_1\n",
      "keycloak-rg\n",
      "DefaultResourceGroup-EUS\n",
      "kafe_storage\n",
      "test-img-rg\n",
      "DefaultResourceGroup-SEA\n",
      "NetworkWatcherRG\n",
      "katonic-feature-engineering-rg\n",
      "DEV-katonic-platform-vnet-RG\n",
      "platform-container-registry-test\n",
      "katonicPlatformResources\n",
      "keycloak-server\n",
      "test-birla-rg\n",
      "birla-platform-rg\n",
      "platformScriptTest_group\n",
      "jupyter-notebook-api-testing-platform-rg\n",
      "jupyter-api-testing-platform-rg\n",
      "jupyapi-testing-platform-rg\n",
      "airbyte-platform-rg\n",
      "kustomize-testing\n",
      "platform-installation\n",
      "kustmization-testing\n",
      "platform-for-data-scientists-rg\n",
      "MC_platform-for-data-scientists-rg_platform-for-data-scientists_southeastasia\n",
      "kustomize-cluster-rg\n",
      "demo-cluster-rg\n",
      "MC_demo-cluster-rg_demo-cluster_southeastasia\n",
      "demo-platform-rg\n",
      "MC_demo-platform-rg_demo-platform-cluster_southeastasia\n",
      "on-premise-testing\n",
      "On-Prem-Testing_group\n",
      "On-Prem-Testing-1_group\n",
      "nifi-with-kc-testing\n",
      "R-docker-images_group\n",
      "superset-dev\n",
      "AzureBackupRG_southeastasia_1\n",
      "inspira-platform-rg\n",
      "MC_inspira-platform-rg_inspira-platform-cluster_southeastasia\n"
     ]
    },
    {
     "data": {
      "text/plain": [
       "52"
      ]
     },
     "execution_count": 75,
     "metadata": {},
     "output_type": "execute_result"
    }
   ],
   "source": [
    "rg=resources_client.resource_groups.list()\n",
    "count=0\n",
    "for i in rg:\n",
    "    print(i.name)\n",
    "    count=count+1\n",
    "count                                     #list all resource Groups by name"
   ]
  },
  {
   "cell_type": "code",
   "execution_count": 87,
   "id": "17699b47",
   "metadata": {},
   "outputs": [
    {
     "name": "stdout",
     "output_type": "stream",
     "text": [
      "{'additional_properties': {}, 'id': '/subscriptions/8c11b217-12d8-4862-a0e5-4f4065f840b9/resourceGroups/cloud-shell-storage-centralindia', 'name': 'cloud-shell-storage-centralindia', 'type': 'Microsoft.Resources/resourceGroups', 'properties': <azure.mgmt.resource.resources.v2021_04_01.models._models_py3.ResourceGroupProperties object at 0x7f9148712350>, 'location': 'centralindia', 'managed_by': None, 'tags': None}\n",
      "{'additional_properties': {}, 'id': '/subscriptions/8c11b217-12d8-4862-a0e5-4f4065f840b9/resourceGroups/minikube-k8s', 'name': 'minikube-k8s', 'type': 'Microsoft.Resources/resourceGroups', 'properties': <azure.mgmt.resource.resources.v2021_04_01.models._models_py3.ResourceGroupProperties object at 0x7f91487123d0>, 'location': 'centralindia', 'managed_by': None, 'tags': None}\n",
      "{'additional_properties': {}, 'id': '/subscriptions/8c11b217-12d8-4862-a0e5-4f4065f840b9/resourceGroups/onpremise', 'name': 'onpremise', 'type': 'Microsoft.Resources/resourceGroups', 'properties': <azure.mgmt.resource.resources.v2021_04_01.models._models_py3.ResourceGroupProperties object at 0x7f9148712450>, 'location': 'centralindia', 'managed_by': None, 'tags': None}\n",
      "{'additional_properties': {}, 'id': '/subscriptions/8c11b217-12d8-4862-a0e5-4f4065f840b9/resourceGroups/godrejcp-platform-rg', 'name': 'godrejcp-platform-rg', 'type': 'Microsoft.Resources/resourceGroups', 'properties': <azure.mgmt.resource.resources.v2021_04_01.models._models_py3.ResourceGroupProperties object at 0x7f91487124d0>, 'location': 'centralindia', 'managed_by': None, 'tags': None}\n",
      "{'additional_properties': {}, 'id': '/subscriptions/8c11b217-12d8-4862-a0e5-4f4065f840b9/resourceGroups/MC_godrejcp-platform-rg_godrejcp-katonic-platform_centralindia', 'name': 'MC_godrejcp-platform-rg_godrejcp-katonic-platform_centralindia', 'type': 'Microsoft.Resources/resourceGroups', 'properties': <azure.mgmt.resource.resources.v2021_04_01.models._models_py3.ResourceGroupProperties object at 0x7f9148712550>, 'location': 'centralindia', 'managed_by': '/subscriptions/8c11b217-12d8-4862-a0e5-4f4065f840b9/resourcegroups/godrejcp-platform-rg/providers/Microsoft.ContainerService/managedClusters/godrejcp-katonic-platform', 'tags': {}}\n",
      "{'additional_properties': {}, 'id': '/subscriptions/8c11b217-12d8-4862-a0e5-4f4065f840b9/resourceGroups/katonic-studio-dev', 'name': 'katonic-studio-dev', 'type': 'Microsoft.Resources/resourceGroups', 'properties': <azure.mgmt.resource.resources.v2021_04_01.models._models_py3.ResourceGroupProperties object at 0x7f9148712610>, 'location': 'centralindia', 'managed_by': None, 'tags': None}\n",
      "{'additional_properties': {}, 'id': '/subscriptions/8c11b217-12d8-4862-a0e5-4f4065f840b9/resourceGroups/elara.ai', 'name': 'elara.ai', 'type': 'Microsoft.Resources/resourceGroups', 'properties': <azure.mgmt.resource.resources.v2021_04_01.models._models_py3.ResourceGroupProperties object at 0x7f9148712690>, 'location': 'centralindia', 'managed_by': None, 'tags': None}\n",
      "{'additional_properties': {}, 'id': '/subscriptions/8c11b217-12d8-4862-a0e5-4f4065f840b9/resourceGroups/birla-windows_group', 'name': 'birla-windows_group', 'type': 'Microsoft.Resources/resourceGroups', 'properties': <azure.mgmt.resource.resources.v2021_04_01.models._models_py3.ResourceGroupProperties object at 0x7f9148712710>, 'location': 'centralindia', 'managed_by': None, 'tags': None}\n",
      "{'additional_properties': {}, 'id': '/subscriptions/8c11b217-12d8-4862-a0e5-4f4065f840b9/resourceGroups/DefaultResourceGroup-CIN', 'name': 'DefaultResourceGroup-CIN', 'type': 'Microsoft.Resources/resourceGroups', 'properties': <azure.mgmt.resource.resources.v2021_04_01.models._models_py3.ResourceGroupProperties object at 0x7f9148712790>, 'location': 'centralindia', 'managed_by': None, 'tags': None}\n",
      "{'additional_properties': {}, 'id': '/subscriptions/8c11b217-12d8-4862-a0e5-4f4065f840b9/resourceGroups/mseq-platform-rg', 'name': 'mseq-platform-rg', 'type': 'Microsoft.Resources/resourceGroups', 'properties': <azure.mgmt.resource.resources.v2021_04_01.models._models_py3.ResourceGroupProperties object at 0x7f91487127d0>, 'location': 'centralindia', 'managed_by': None, 'tags': None}\n",
      "{'additional_properties': {}, 'id': '/subscriptions/8c11b217-12d8-4862-a0e5-4f4065f840b9/resourceGroups/MC_mseq-platform-rg_mseq-platform-cluster_centralindia', 'name': 'MC_mseq-platform-rg_mseq-platform-cluster_centralindia', 'type': 'Microsoft.Resources/resourceGroups', 'properties': <azure.mgmt.resource.resources.v2021_04_01.models._models_py3.ResourceGroupProperties object at 0x7f9148712850>, 'location': 'centralindia', 'managed_by': '/subscriptions/8c11b217-12d8-4862-a0e5-4f4065f840b9/resourcegroups/mseq-platform-rg/providers/Microsoft.ContainerService/managedClusters/mseq-platform-cluster', 'tags': {}}\n",
      "{'additional_properties': {}, 'id': '/subscriptions/8c11b217-12d8-4862-a0e5-4f4065f840b9/resourceGroups/ansible-platform-testing', 'name': 'ansible-platform-testing', 'type': 'Microsoft.Resources/resourceGroups', 'properties': <azure.mgmt.resource.resources.v2021_04_01.models._models_py3.ResourceGroupProperties object at 0x7f91487128d0>, 'location': 'centralindia', 'managed_by': None, 'tags': None}\n",
      "{'additional_properties': {}, 'id': '/subscriptions/8c11b217-12d8-4862-a0e5-4f4065f840b9/resourceGroups/MC_ansible-platform-testing_ansible-cluster-testing_centralindia', 'name': 'MC_ansible-platform-testing_ansible-cluster-testing_centralindia', 'type': 'Microsoft.Resources/resourceGroups', 'properties': <azure.mgmt.resource.resources.v2021_04_01.models._models_py3.ResourceGroupProperties object at 0x7f9148712950>, 'location': 'centralindia', 'managed_by': '/subscriptions/8c11b217-12d8-4862-a0e5-4f4065f840b9/resourcegroups/ansible-platform-testing/providers/Microsoft.ContainerService/managedClusters/ansible-cluster-testing', 'tags': {}}\n",
      "{'additional_properties': {}, 'id': '/subscriptions/8c11b217-12d8-4862-a0e5-4f4065f840b9/resourceGroups/cicd', 'name': 'cicd', 'type': 'Microsoft.Resources/resourceGroups', 'properties': <azure.mgmt.resource.resources.v2021_04_01.models._models_py3.ResourceGroupProperties object at 0x7f91487129d0>, 'location': 'centralindia', 'managed_by': None, 'tags': {'environment': 'test'}}\n",
      "{'additional_properties': {}, 'id': '/subscriptions/8c11b217-12d8-4862-a0e5-4f4065f840b9/resourceGroups/AzureBackupRG_eastus_1', 'name': 'AzureBackupRG_eastus_1', 'type': 'Microsoft.Resources/resourceGroups', 'properties': <azure.mgmt.resource.resources.v2021_04_01.models._models_py3.ResourceGroupProperties object at 0x7f9148712a50>, 'location': 'eastus', 'managed_by': 'subscriptions/8c11b217-12d8-4862-a0e5-4f4065f840b9/providers/Microsoft.RecoveryServices/', 'tags': None}\n",
      "{'additional_properties': {}, 'id': '/subscriptions/8c11b217-12d8-4862-a0e5-4f4065f840b9/resourceGroups/keycloak-rg', 'name': 'keycloak-rg', 'type': 'Microsoft.Resources/resourceGroups', 'properties': <azure.mgmt.resource.resources.v2021_04_01.models._models_py3.ResourceGroupProperties object at 0x7f9148712ad0>, 'location': 'eastus', 'managed_by': None, 'tags': None}\n",
      "{'additional_properties': {}, 'id': '/subscriptions/8c11b217-12d8-4862-a0e5-4f4065f840b9/resourceGroups/DefaultResourceGroup-EUS', 'name': 'DefaultResourceGroup-EUS', 'type': 'Microsoft.Resources/resourceGroups', 'properties': <azure.mgmt.resource.resources.v2021_04_01.models._models_py3.ResourceGroupProperties object at 0x7f9148712b50>, 'location': 'eastus', 'managed_by': None, 'tags': None}\n",
      "{'additional_properties': {}, 'id': '/subscriptions/8c11b217-12d8-4862-a0e5-4f4065f840b9/resourceGroups/kafe_storage', 'name': 'kafe_storage', 'type': 'Microsoft.Resources/resourceGroups', 'properties': <azure.mgmt.resource.resources.v2021_04_01.models._models_py3.ResourceGroupProperties object at 0x7f9148712bd0>, 'location': 'eastus', 'managed_by': None, 'tags': None}\n",
      "{'additional_properties': {}, 'id': '/subscriptions/8c11b217-12d8-4862-a0e5-4f4065f840b9/resourceGroups/test-img-rg', 'name': 'test-img-rg', 'type': 'Microsoft.Resources/resourceGroups', 'properties': <azure.mgmt.resource.resources.v2021_04_01.models._models_py3.ResourceGroupProperties object at 0x7f9148712c50>, 'location': 'eastus', 'managed_by': None, 'tags': None}\n",
      "{'additional_properties': {}, 'id': '/subscriptions/8c11b217-12d8-4862-a0e5-4f4065f840b9/resourceGroups/DefaultResourceGroup-SEA', 'name': 'DefaultResourceGroup-SEA', 'type': 'Microsoft.Resources/resourceGroups', 'properties': <azure.mgmt.resource.resources.v2021_04_01.models._models_py3.ResourceGroupProperties object at 0x7f9148712cd0>, 'location': 'southeastasia', 'managed_by': None, 'tags': None}\n",
      "{'additional_properties': {}, 'id': '/subscriptions/8c11b217-12d8-4862-a0e5-4f4065f840b9/resourceGroups/NetworkWatcherRG', 'name': 'NetworkWatcherRG', 'type': 'Microsoft.Resources/resourceGroups', 'properties': <azure.mgmt.resource.resources.v2021_04_01.models._models_py3.ResourceGroupProperties object at 0x7f9148712d50>, 'location': 'southeastasia', 'managed_by': None, 'tags': None}\n",
      "{'additional_properties': {}, 'id': '/subscriptions/8c11b217-12d8-4862-a0e5-4f4065f840b9/resourceGroups/katonic-feature-engineering-rg', 'name': 'katonic-feature-engineering-rg', 'type': 'Microsoft.Resources/resourceGroups', 'properties': <azure.mgmt.resource.resources.v2021_04_01.models._models_py3.ResourceGroupProperties object at 0x7f9148712dd0>, 'location': 'southeastasia', 'managed_by': None, 'tags': None}\n",
      "{'additional_properties': {}, 'id': '/subscriptions/8c11b217-12d8-4862-a0e5-4f4065f840b9/resourceGroups/DEV-katonic-platform-vnet-RG', 'name': 'DEV-katonic-platform-vnet-RG', 'type': 'Microsoft.Resources/resourceGroups', 'properties': <azure.mgmt.resource.resources.v2021_04_01.models._models_py3.ResourceGroupProperties object at 0x7f9148712e50>, 'location': 'southeastasia', 'managed_by': None, 'tags': None}\n",
      "{'additional_properties': {}, 'id': '/subscriptions/8c11b217-12d8-4862-a0e5-4f4065f840b9/resourceGroups/platform-container-registry-test', 'name': 'platform-container-registry-test', 'type': 'Microsoft.Resources/resourceGroups', 'properties': <azure.mgmt.resource.resources.v2021_04_01.models._models_py3.ResourceGroupProperties object at 0x7f9148712ed0>, 'location': 'southeastasia', 'managed_by': None, 'tags': None}\n",
      "{'additional_properties': {}, 'id': '/subscriptions/8c11b217-12d8-4862-a0e5-4f4065f840b9/resourceGroups/katonicPlatformResources', 'name': 'katonicPlatformResources', 'type': 'Microsoft.Resources/resourceGroups', 'properties': <azure.mgmt.resource.resources.v2021_04_01.models._models_py3.ResourceGroupProperties object at 0x7f9148712f50>, 'location': 'southeastasia', 'managed_by': None, 'tags': None}\n",
      "{'additional_properties': {}, 'id': '/subscriptions/8c11b217-12d8-4862-a0e5-4f4065f840b9/resourceGroups/keycloak-server', 'name': 'keycloak-server', 'type': 'Microsoft.Resources/resourceGroups', 'properties': <azure.mgmt.resource.resources.v2021_04_01.models._models_py3.ResourceGroupProperties object at 0x7f9148712fd0>, 'location': 'southeastasia', 'managed_by': None, 'tags': None}\n",
      "{'additional_properties': {}, 'id': '/subscriptions/8c11b217-12d8-4862-a0e5-4f4065f840b9/resourceGroups/test-birla-rg', 'name': 'test-birla-rg', 'type': 'Microsoft.Resources/resourceGroups', 'properties': <azure.mgmt.resource.resources.v2021_04_01.models._models_py3.ResourceGroupProperties object at 0x7f9148700090>, 'location': 'southeastasia', 'managed_by': None, 'tags': {}}\n",
      "{'additional_properties': {}, 'id': '/subscriptions/8c11b217-12d8-4862-a0e5-4f4065f840b9/resourceGroups/birla-platform-rg', 'name': 'birla-platform-rg', 'type': 'Microsoft.Resources/resourceGroups', 'properties': <azure.mgmt.resource.resources.v2021_04_01.models._models_py3.ResourceGroupProperties object at 0x7f9148700110>, 'location': 'southeastasia', 'managed_by': None, 'tags': None}\n",
      "{'additional_properties': {}, 'id': '/subscriptions/8c11b217-12d8-4862-a0e5-4f4065f840b9/resourceGroups/platformScriptTest_group', 'name': 'platformScriptTest_group', 'type': 'Microsoft.Resources/resourceGroups', 'properties': <azure.mgmt.resource.resources.v2021_04_01.models._models_py3.ResourceGroupProperties object at 0x7f9148700190>, 'location': 'southeastasia', 'managed_by': None, 'tags': None}\n",
      "{'additional_properties': {}, 'id': '/subscriptions/8c11b217-12d8-4862-a0e5-4f4065f840b9/resourceGroups/jupyter-notebook-api-testing-platform-rg', 'name': 'jupyter-notebook-api-testing-platform-rg', 'type': 'Microsoft.Resources/resourceGroups', 'properties': <azure.mgmt.resource.resources.v2021_04_01.models._models_py3.ResourceGroupProperties object at 0x7f9148700210>, 'location': 'southeastasia', 'managed_by': None, 'tags': None}\n",
      "{'additional_properties': {}, 'id': '/subscriptions/8c11b217-12d8-4862-a0e5-4f4065f840b9/resourceGroups/jupyter-api-testing-platform-rg', 'name': 'jupyter-api-testing-platform-rg', 'type': 'Microsoft.Resources/resourceGroups', 'properties': <azure.mgmt.resource.resources.v2021_04_01.models._models_py3.ResourceGroupProperties object at 0x7f9148700290>, 'location': 'southeastasia', 'managed_by': None, 'tags': None}\n",
      "{'additional_properties': {}, 'id': '/subscriptions/8c11b217-12d8-4862-a0e5-4f4065f840b9/resourceGroups/jupyapi-testing-platform-rg', 'name': 'jupyapi-testing-platform-rg', 'type': 'Microsoft.Resources/resourceGroups', 'properties': <azure.mgmt.resource.resources.v2021_04_01.models._models_py3.ResourceGroupProperties object at 0x7f9148700310>, 'location': 'southeastasia', 'managed_by': None, 'tags': None}\n",
      "{'additional_properties': {}, 'id': '/subscriptions/8c11b217-12d8-4862-a0e5-4f4065f840b9/resourceGroups/airbyte-platform-rg', 'name': 'airbyte-platform-rg', 'type': 'Microsoft.Resources/resourceGroups', 'properties': <azure.mgmt.resource.resources.v2021_04_01.models._models_py3.ResourceGroupProperties object at 0x7f9148700390>, 'location': 'southeastasia', 'managed_by': None, 'tags': None}\n",
      "{'additional_properties': {}, 'id': '/subscriptions/8c11b217-12d8-4862-a0e5-4f4065f840b9/resourceGroups/kustomize-testing', 'name': 'kustomize-testing', 'type': 'Microsoft.Resources/resourceGroups', 'properties': <azure.mgmt.resource.resources.v2021_04_01.models._models_py3.ResourceGroupProperties object at 0x7f9148700410>, 'location': 'southeastasia', 'managed_by': None, 'tags': None}\n",
      "{'additional_properties': {}, 'id': '/subscriptions/8c11b217-12d8-4862-a0e5-4f4065f840b9/resourceGroups/platform-installation', 'name': 'platform-installation', 'type': 'Microsoft.Resources/resourceGroups', 'properties': <azure.mgmt.resource.resources.v2021_04_01.models._models_py3.ResourceGroupProperties object at 0x7f9148700490>, 'location': 'southeastasia', 'managed_by': None, 'tags': {}}\n",
      "{'additional_properties': {}, 'id': '/subscriptions/8c11b217-12d8-4862-a0e5-4f4065f840b9/resourceGroups/kustmization-testing', 'name': 'kustmization-testing', 'type': 'Microsoft.Resources/resourceGroups', 'properties': <azure.mgmt.resource.resources.v2021_04_01.models._models_py3.ResourceGroupProperties object at 0x7f9148700510>, 'location': 'southeastasia', 'managed_by': None, 'tags': None}\n",
      "{'additional_properties': {}, 'id': '/subscriptions/8c11b217-12d8-4862-a0e5-4f4065f840b9/resourceGroups/platform-for-data-scientists-rg', 'name': 'platform-for-data-scientists-rg', 'type': 'Microsoft.Resources/resourceGroups', 'properties': <azure.mgmt.resource.resources.v2021_04_01.models._models_py3.ResourceGroupProperties object at 0x7f9148700590>, 'location': 'southeastasia', 'managed_by': None, 'tags': None}\n",
      "{'additional_properties': {}, 'id': '/subscriptions/8c11b217-12d8-4862-a0e5-4f4065f840b9/resourceGroups/MC_platform-for-data-scientists-rg_platform-for-data-scientists_southeastasia', 'name': 'MC_platform-for-data-scientists-rg_platform-for-data-scientists_southeastasia', 'type': 'Microsoft.Resources/resourceGroups', 'properties': <azure.mgmt.resource.resources.v2021_04_01.models._models_py3.ResourceGroupProperties object at 0x7f9148700610>, 'location': 'southeastasia', 'managed_by': '/subscriptions/8c11b217-12d8-4862-a0e5-4f4065f840b9/resourcegroups/platform-for-data-scientists-rg/providers/Microsoft.ContainerService/managedClusters/platform-for-data-scientists', 'tags': {}}\n",
      "{'additional_properties': {}, 'id': '/subscriptions/8c11b217-12d8-4862-a0e5-4f4065f840b9/resourceGroups/kustomize-cluster-rg', 'name': 'kustomize-cluster-rg', 'type': 'Microsoft.Resources/resourceGroups', 'properties': <azure.mgmt.resource.resources.v2021_04_01.models._models_py3.ResourceGroupProperties object at 0x7f9148700690>, 'location': 'southeastasia', 'managed_by': None, 'tags': None}\n",
      "{'additional_properties': {}, 'id': '/subscriptions/8c11b217-12d8-4862-a0e5-4f4065f840b9/resourceGroups/demo-cluster-rg', 'name': 'demo-cluster-rg', 'type': 'Microsoft.Resources/resourceGroups', 'properties': <azure.mgmt.resource.resources.v2021_04_01.models._models_py3.ResourceGroupProperties object at 0x7f9148700710>, 'location': 'southeastasia', 'managed_by': None, 'tags': None}\n",
      "{'additional_properties': {}, 'id': '/subscriptions/8c11b217-12d8-4862-a0e5-4f4065f840b9/resourceGroups/MC_demo-cluster-rg_demo-cluster_southeastasia', 'name': 'MC_demo-cluster-rg_demo-cluster_southeastasia', 'type': 'Microsoft.Resources/resourceGroups', 'properties': <azure.mgmt.resource.resources.v2021_04_01.models._models_py3.ResourceGroupProperties object at 0x7f9148700790>, 'location': 'southeastasia', 'managed_by': '/subscriptions/8c11b217-12d8-4862-a0e5-4f4065f840b9/resourcegroups/demo-cluster-rg/providers/Microsoft.ContainerService/managedClusters/demo-cluster', 'tags': {}}\n",
      "{'additional_properties': {}, 'id': '/subscriptions/8c11b217-12d8-4862-a0e5-4f4065f840b9/resourceGroups/demo-platform-rg', 'name': 'demo-platform-rg', 'type': 'Microsoft.Resources/resourceGroups', 'properties': <azure.mgmt.resource.resources.v2021_04_01.models._models_py3.ResourceGroupProperties object at 0x7f9148700810>, 'location': 'southeastasia', 'managed_by': None, 'tags': None}\n",
      "{'additional_properties': {}, 'id': '/subscriptions/8c11b217-12d8-4862-a0e5-4f4065f840b9/resourceGroups/MC_demo-platform-rg_demo-platform-cluster_southeastasia', 'name': 'MC_demo-platform-rg_demo-platform-cluster_southeastasia', 'type': 'Microsoft.Resources/resourceGroups', 'properties': <azure.mgmt.resource.resources.v2021_04_01.models._models_py3.ResourceGroupProperties object at 0x7f9148700890>, 'location': 'southeastasia', 'managed_by': '/subscriptions/8c11b217-12d8-4862-a0e5-4f4065f840b9/resourcegroups/demo-platform-rg/providers/Microsoft.ContainerService/managedClusters/demo-platform-cluster', 'tags': {}}\n",
      "{'additional_properties': {}, 'id': '/subscriptions/8c11b217-12d8-4862-a0e5-4f4065f840b9/resourceGroups/on-premise-testing', 'name': 'on-premise-testing', 'type': 'Microsoft.Resources/resourceGroups', 'properties': <azure.mgmt.resource.resources.v2021_04_01.models._models_py3.ResourceGroupProperties object at 0x7f9148700910>, 'location': 'southeastasia', 'managed_by': None, 'tags': None}\n",
      "{'additional_properties': {}, 'id': '/subscriptions/8c11b217-12d8-4862-a0e5-4f4065f840b9/resourceGroups/On-Prem-Testing_group', 'name': 'On-Prem-Testing_group', 'type': 'Microsoft.Resources/resourceGroups', 'properties': <azure.mgmt.resource.resources.v2021_04_01.models._models_py3.ResourceGroupProperties object at 0x7f9148700990>, 'location': 'southeastasia', 'managed_by': None, 'tags': None}\n",
      "{'additional_properties': {}, 'id': '/subscriptions/8c11b217-12d8-4862-a0e5-4f4065f840b9/resourceGroups/On-Prem-Testing-1_group', 'name': 'On-Prem-Testing-1_group', 'type': 'Microsoft.Resources/resourceGroups', 'properties': <azure.mgmt.resource.resources.v2021_04_01.models._models_py3.ResourceGroupProperties object at 0x7f9148700a10>, 'location': 'southeastasia', 'managed_by': None, 'tags': None}\n",
      "{'additional_properties': {}, 'id': '/subscriptions/8c11b217-12d8-4862-a0e5-4f4065f840b9/resourceGroups/nifi-with-kc-testing', 'name': 'nifi-with-kc-testing', 'type': 'Microsoft.Resources/resourceGroups', 'properties': <azure.mgmt.resource.resources.v2021_04_01.models._models_py3.ResourceGroupProperties object at 0x7f9148700a90>, 'location': 'southeastasia', 'managed_by': None, 'tags': None}\n",
      "{'additional_properties': {}, 'id': '/subscriptions/8c11b217-12d8-4862-a0e5-4f4065f840b9/resourceGroups/R-docker-images_group', 'name': 'R-docker-images_group', 'type': 'Microsoft.Resources/resourceGroups', 'properties': <azure.mgmt.resource.resources.v2021_04_01.models._models_py3.ResourceGroupProperties object at 0x7f9148700b10>, 'location': 'southeastasia', 'managed_by': None, 'tags': None}\n",
      "{'additional_properties': {}, 'id': '/subscriptions/8c11b217-12d8-4862-a0e5-4f4065f840b9/resourceGroups/superset-dev', 'name': 'superset-dev', 'type': 'Microsoft.Resources/resourceGroups', 'properties': <azure.mgmt.resource.resources.v2021_04_01.models._models_py3.ResourceGroupProperties object at 0x7f9148700b90>, 'location': 'southeastasia', 'managed_by': None, 'tags': None}\n",
      "{'additional_properties': {}, 'id': '/subscriptions/8c11b217-12d8-4862-a0e5-4f4065f840b9/resourceGroups/AzureBackupRG_southeastasia_1', 'name': 'AzureBackupRG_southeastasia_1', 'type': 'Microsoft.Resources/resourceGroups', 'properties': <azure.mgmt.resource.resources.v2021_04_01.models._models_py3.ResourceGroupProperties object at 0x7f9148700c10>, 'location': 'southeastasia', 'managed_by': 'subscriptions/8c11b217-12d8-4862-a0e5-4f4065f840b9/providers/Microsoft.RecoveryServices/', 'tags': None}\n",
      "{'additional_properties': {}, 'id': '/subscriptions/8c11b217-12d8-4862-a0e5-4f4065f840b9/resourceGroups/inspira-platform-rg', 'name': 'inspira-platform-rg', 'type': 'Microsoft.Resources/resourceGroups', 'properties': <azure.mgmt.resource.resources.v2021_04_01.models._models_py3.ResourceGroupProperties object at 0x7f9148700c90>, 'location': 'southeastasia', 'managed_by': None, 'tags': None}\n",
      "{'additional_properties': {}, 'id': '/subscriptions/8c11b217-12d8-4862-a0e5-4f4065f840b9/resourceGroups/MC_inspira-platform-rg_inspira-platform-cluster_southeastasia', 'name': 'MC_inspira-platform-rg_inspira-platform-cluster_southeastasia', 'type': 'Microsoft.Resources/resourceGroups', 'properties': <azure.mgmt.resource.resources.v2021_04_01.models._models_py3.ResourceGroupProperties object at 0x7f9148700d10>, 'location': 'southeastasia', 'managed_by': '/subscriptions/8c11b217-12d8-4862-a0e5-4f4065f840b9/resourcegroups/inspira-platform-rg/providers/Microsoft.ContainerService/managedClusters/inspira-platform-cluster', 'tags': {}}\n"
     ]
    }
   ],
   "source": [
    "for item in resources_client.resource_groups.list():\n",
    "    print(item)"
   ]
  },
  {
   "cell_type": "code",
   "execution_count": 105,
   "id": "b30b7b93",
   "metadata": {},
   "outputs": [],
   "source": [
    "from azure.mgmt.resource import ResourceManagementClient\n",
    "from azure.identity import AzureCliCredential"
   ]
  },
  {
   "cell_type": "code",
   "execution_count": 107,
   "id": "d0c41df2",
   "metadata": {},
   "outputs": [],
   "source": [
    "creds=AzureCliCredential()\n",
    "subscription_id=\"8c11b217-12d8-4862-a0e5-4f4065f840b9\"\n",
    "resources_client=ResourceManagementClient(creds,subscription_id)\n",
    "resouces=resources_client.resources.list_by_resource_group(\"cicd\")"
   ]
  },
  {
   "cell_type": "code",
   "execution_count": 110,
   "id": "62541792",
   "metadata": {},
   "outputs": [],
   "source": [
    "for i in resouces:\n",
    "    print(i)"
   ]
  },
  {
   "cell_type": "code",
   "execution_count": null,
   "id": "6648173f",
   "metadata": {},
   "outputs": [],
   "source": []
  }
 ],
 "metadata": {
  "kernelspec": {
   "display_name": "Python 3 (ipykernel)",
   "language": "python",
   "name": "python3"
  },
  "language_info": {
   "codemirror_mode": {
    "name": "ipython",
    "version": 3
   },
   "file_extension": ".py",
   "mimetype": "text/x-python",
   "name": "python",
   "nbconvert_exporter": "python",
   "pygments_lexer": "ipython3",
   "version": "3.7.9"
  }
 },
 "nbformat": 4,
 "nbformat_minor": 5
}
